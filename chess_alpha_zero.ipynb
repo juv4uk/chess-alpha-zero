{
  "nbformat": 4,
  "nbformat_minor": 0,
  "metadata": {
    "colab": {
      "name": "chess-alpha-zero.ipynb\"",
      "provenance": [],
      "authorship_tag": "ABX9TyPQ3ILZo9EsflsBAlNsCLuu",
      "include_colab_link": true
    },
    "kernelspec": {
      "name": "python3",
      "display_name": "Python 3"
    },
    "language_info": {
      "name": "python"
    },
    "accelerator": "GPU"
  },
  "cells": [
    {
      "cell_type": "markdown",
      "metadata": {
        "id": "view-in-github",
        "colab_type": "text"
      },
      "source": [
        "<a href=\"https://colab.research.google.com/github/juv4uk/chess-alpha-zero/blob/master/chess_alpha_zero.ipynb\" target=\"_parent\"><img src=\"https://colab.research.google.com/assets/colab-badge.svg\" alt=\"Open In Colab\"/></a>"
      ]
    },
    {
      "cell_type": "code",
      "metadata": {
        "id": "3ESRakcW1LUR",
        "colab": {
          "base_uri": "https://localhost:8080/"
        },
        "outputId": "69a010c5-3967-441e-830f-8984c8f57d21"
      },
      "source": [
        "!git clone https://github.com/juv4uk/chess-alpha-zero"
      ],
      "execution_count": null,
      "outputs": [
        {
          "output_type": "stream",
          "text": [
            "fatal: destination path 'chess-alpha-zero' already exists and is not an empty directory.\n"
          ],
          "name": "stdout"
        }
      ]
    },
    {
      "cell_type": "code",
      "metadata": {
        "colab": {
          "base_uri": "https://localhost:8080/"
        },
        "id": "YP3fMSAY2Mnu",
        "outputId": "c68b6f15-0669-45d2-bdeb-5be1b9bdfba9"
      },
      "source": [
        "!cd chess-alpha-zero/\n",
        "!ls chess-alpha-zero/src/chess_zero/"
      ],
      "execution_count": null,
      "outputs": [
        {
          "output_type": "stream",
          "text": [
            "agent\t   configs  __init__.py  manager.py  __pycache__  worker\n",
            "config.py  env\t    lib\t\t play_game   run.py\n"
          ],
          "name": "stdout"
        }
      ]
    },
    {
      "cell_type": "code",
      "metadata": {
        "colab": {
          "base_uri": "https://localhost:8080/"
        },
        "id": "cfUfHAow4Hz5",
        "outputId": "6de0e509-50e9-4231-bbcf-4076cd15948c"
      },
      "source": [
        "!pip install -r chess-alpha-zero/requirements.txt\n"
      ],
      "execution_count": null,
      "outputs": [
        {
          "output_type": "stream",
          "text": [
            "Requirement already satisfied: python-chess==0.25.1 in /usr/local/lib/python3.7/dist-packages (from -r chess-alpha-zero/requirements.txt (line 1)) (0.25.1)\n",
            "Requirement already satisfied: tensorflow-gpu==1.15.2 in /usr/local/lib/python3.7/dist-packages (from -r chess-alpha-zero/requirements.txt (line 2)) (1.15.2)\n",
            "Requirement already satisfied: keras==2.0.8 in /usr/local/lib/python3.7/dist-packages (from -r chess-alpha-zero/requirements.txt (line 3)) (2.0.8)\n",
            "Requirement already satisfied: profilehooks in /usr/local/lib/python3.7/dist-packages (from -r chess-alpha-zero/requirements.txt (line 4)) (1.12.0)\n",
            "Requirement already satisfied: numpy in /usr/local/lib/python3.7/dist-packages (from -r chess-alpha-zero/requirements.txt (line 5)) (1.19.5)\n",
            "Requirement already satisfied: pyperclip in /usr/local/lib/python3.7/dist-packages (from -r chess-alpha-zero/requirements.txt (line 6)) (1.8.2)\n",
            "Requirement already satisfied: h5py in /usr/local/lib/python3.7/dist-packages (from -r chess-alpha-zero/requirements.txt (line 7)) (3.1.0)\n",
            "Requirement already satisfied: astor>=0.6.0 in /usr/local/lib/python3.7/dist-packages (from tensorflow-gpu==1.15.2->-r chess-alpha-zero/requirements.txt (line 2)) (0.8.1)\n",
            "Requirement already satisfied: six>=1.10.0 in /usr/local/lib/python3.7/dist-packages (from tensorflow-gpu==1.15.2->-r chess-alpha-zero/requirements.txt (line 2)) (1.15.0)\n",
            "Requirement already satisfied: protobuf>=3.6.1 in /usr/local/lib/python3.7/dist-packages (from tensorflow-gpu==1.15.2->-r chess-alpha-zero/requirements.txt (line 2)) (3.12.4)\n",
            "Requirement already satisfied: tensorflow-estimator==1.15.1 in /usr/local/lib/python3.7/dist-packages (from tensorflow-gpu==1.15.2->-r chess-alpha-zero/requirements.txt (line 2)) (1.15.1)\n",
            "Requirement already satisfied: keras-preprocessing>=1.0.5 in /usr/local/lib/python3.7/dist-packages (from tensorflow-gpu==1.15.2->-r chess-alpha-zero/requirements.txt (line 2)) (1.1.2)\n",
            "Requirement already satisfied: wrapt>=1.11.1 in /usr/local/lib/python3.7/dist-packages (from tensorflow-gpu==1.15.2->-r chess-alpha-zero/requirements.txt (line 2)) (1.12.1)\n",
            "Requirement already satisfied: tensorboard<1.16.0,>=1.15.0 in /usr/local/lib/python3.7/dist-packages (from tensorflow-gpu==1.15.2->-r chess-alpha-zero/requirements.txt (line 2)) (1.15.0)\n",
            "Requirement already satisfied: gast==0.2.2 in /usr/local/lib/python3.7/dist-packages (from tensorflow-gpu==1.15.2->-r chess-alpha-zero/requirements.txt (line 2)) (0.2.2)\n",
            "Requirement already satisfied: termcolor>=1.1.0 in /usr/local/lib/python3.7/dist-packages (from tensorflow-gpu==1.15.2->-r chess-alpha-zero/requirements.txt (line 2)) (1.1.0)\n",
            "Requirement already satisfied: grpcio>=1.8.6 in /usr/local/lib/python3.7/dist-packages (from tensorflow-gpu==1.15.2->-r chess-alpha-zero/requirements.txt (line 2)) (1.34.1)\n",
            "Requirement already satisfied: keras-applications>=1.0.8 in /usr/local/lib/python3.7/dist-packages (from tensorflow-gpu==1.15.2->-r chess-alpha-zero/requirements.txt (line 2)) (1.0.8)\n",
            "Requirement already satisfied: absl-py>=0.7.0 in /usr/local/lib/python3.7/dist-packages (from tensorflow-gpu==1.15.2->-r chess-alpha-zero/requirements.txt (line 2)) (0.12.0)\n",
            "Requirement already satisfied: opt-einsum>=2.3.2 in /usr/local/lib/python3.7/dist-packages (from tensorflow-gpu==1.15.2->-r chess-alpha-zero/requirements.txt (line 2)) (3.3.0)\n",
            "Requirement already satisfied: google-pasta>=0.1.6 in /usr/local/lib/python3.7/dist-packages (from tensorflow-gpu==1.15.2->-r chess-alpha-zero/requirements.txt (line 2)) (0.2.0)\n",
            "Requirement already satisfied: wheel>=0.26; python_version >= \"3\" in /usr/local/lib/python3.7/dist-packages (from tensorflow-gpu==1.15.2->-r chess-alpha-zero/requirements.txt (line 2)) (0.36.2)\n",
            "Requirement already satisfied: pyyaml in /usr/local/lib/python3.7/dist-packages (from keras==2.0.8->-r chess-alpha-zero/requirements.txt (line 3)) (3.13)\n",
            "Requirement already satisfied: scipy>=0.14 in /usr/local/lib/python3.7/dist-packages (from keras==2.0.8->-r chess-alpha-zero/requirements.txt (line 3)) (1.4.1)\n",
            "Requirement already satisfied: cached-property; python_version < \"3.8\" in /usr/local/lib/python3.7/dist-packages (from h5py->-r chess-alpha-zero/requirements.txt (line 7)) (1.5.2)\n",
            "Requirement already satisfied: setuptools in /usr/local/lib/python3.7/dist-packages (from protobuf>=3.6.1->tensorflow-gpu==1.15.2->-r chess-alpha-zero/requirements.txt (line 2)) (57.0.0)\n",
            "Requirement already satisfied: werkzeug>=0.11.15 in /usr/local/lib/python3.7/dist-packages (from tensorboard<1.16.0,>=1.15.0->tensorflow-gpu==1.15.2->-r chess-alpha-zero/requirements.txt (line 2)) (1.0.1)\n",
            "Requirement already satisfied: markdown>=2.6.8 in /usr/local/lib/python3.7/dist-packages (from tensorboard<1.16.0,>=1.15.0->tensorflow-gpu==1.15.2->-r chess-alpha-zero/requirements.txt (line 2)) (3.3.4)\n",
            "Requirement already satisfied: importlib-metadata; python_version < \"3.8\" in /usr/local/lib/python3.7/dist-packages (from markdown>=2.6.8->tensorboard<1.16.0,>=1.15.0->tensorflow-gpu==1.15.2->-r chess-alpha-zero/requirements.txt (line 2)) (4.5.0)\n",
            "Requirement already satisfied: typing-extensions>=3.6.4; python_version < \"3.8\" in /usr/local/lib/python3.7/dist-packages (from importlib-metadata; python_version < \"3.8\"->markdown>=2.6.8->tensorboard<1.16.0,>=1.15.0->tensorflow-gpu==1.15.2->-r chess-alpha-zero/requirements.txt (line 2)) (3.7.4.3)\n",
            "Requirement already satisfied: zipp>=0.5 in /usr/local/lib/python3.7/dist-packages (from importlib-metadata; python_version < \"3.8\"->markdown>=2.6.8->tensorboard<1.16.0,>=1.15.0->tensorflow-gpu==1.15.2->-r chess-alpha-zero/requirements.txt (line 2)) (3.4.1)\n"
          ],
          "name": "stdout"
        }
      ]
    },
    {
      "cell_type": "code",
      "metadata": {
        "colab": {
          "base_uri": "https://localhost:8080/"
        },
        "id": "LLgMUyOU4HkW",
        "outputId": "f18a57d6-9bdb-4768-bea1-8ab847a5da8e"
      },
      "source": [
        "!apt install python3"
      ],
      "execution_count": null,
      "outputs": [
        {
          "output_type": "stream",
          "text": [
            "Reading package lists... Done\n",
            "Building dependency tree       \n",
            "Reading state information... Done\n",
            "python3 is already the newest version (3.6.7-1~18.04).\n",
            "0 upgraded, 0 newly installed, 0 to remove and 39 not upgraded.\n"
          ],
          "name": "stdout"
        }
      ]
    },
    {
      "cell_type": "code",
      "metadata": {
        "colab": {
          "base_uri": "https://localhost:8080/"
        },
        "id": "ElqTjl774HAb",
        "outputId": "2698ce13-e035-42c9-e53a-09339bd56c38"
      },
      "source": [
        "!python3 chess-alpha-zero/src/chess_zero/run.py --cmd self"
      ],
      "execution_count": null,
      "outputs": [
        {
          "output_type": "stream",
          "text": [
            "2021-06-21 23:49:57,703@chess_zero.manager INFO # config type: mini\n",
            "2021-06-21 23:49:57,754@h5py._conv DEBUG # Creating converter from 7 to 5\n",
            "2021-06-21 23:49:57,755@h5py._conv DEBUG # Creating converter from 5 to 7\n",
            "2021-06-21 23:49:57,755@h5py._conv DEBUG # Creating converter from 7 to 5\n",
            "2021-06-21 23:49:57,755@h5py._conv DEBUG # Creating converter from 5 to 7\n",
            "Using TensorFlow backend.\n",
            "Traceback (most recent call last):\n",
            "  File \"chess-alpha-zero/src/chess_zero/run.py\", line 20, in <module>\n",
            "    manager.start()\n",
            "  File \"chess-alpha-zero/src/chess_zero/manager.py\", line 63, in start\n",
            "    from .worker import self_play\n",
            "  File \"chess-alpha-zero/src/chess_zero/worker/self_play.py\", line 13, in <module>\n",
            "    from chess_zero.agent.model_chess import ChessModel\n",
            "  File \"chess-alpha-zero/src/chess_zero/agent/model_chess.py\", line 11, in <module>\n",
            "    from keras.engine.topology import Input\n",
            "  File \"/usr/local/lib/python3.7/dist-packages/keras/__init__.py\", line 4, in <module>\n",
            "    from . import activations\n",
            "  File \"/usr/local/lib/python3.7/dist-packages/keras/activations.py\", line 6, in <module>\n",
            "    from .engine import Layer\n",
            "  File \"/usr/local/lib/python3.7/dist-packages/keras/engine/__init__.py\", line 3, in <module>\n",
            "    from .topology import InputSpec\n",
            "  File \"/usr/local/lib/python3.7/dist-packages/keras/engine/topology.py\", line 16, in <module>\n",
            "    from .. import initializers\n",
            "  File \"/usr/local/lib/python3.7/dist-packages/keras/initializers/__init__.py\", line 124, in <module>\n",
            "    populate_deserializable_objects()\n",
            "  File \"/usr/local/lib/python3.7/dist-packages/keras/initializers/__init__.py\", line 49, in populate_deserializable_objects\n",
            "    LOCAL.GENERATED_WITH_V2 = tf.__internal__.tf2.enabled()\n",
            "  File \"/usr/local/lib/python3.7/dist-packages/tensorflow_core/python/util/module_wrapper.py\", line 193, in __getattr__\n",
            "    attr = getattr(self._tfmw_wrapped_module, name)\n",
            "AttributeError: module 'tensorflow._api.v1.compat.v2' has no attribute '__internal__'\n"
          ],
          "name": "stdout"
        }
      ]
    },
    {
      "cell_type": "code",
      "metadata": {
        "colab": {
          "base_uri": "https://localhost:8080/"
        },
        "id": "00lenzyX2ugF",
        "outputId": "9523e15e-03e2-4d5a-e2cd-afe0be7e403b"
      },
      "source": [
        "!python chess-alpha-zero/src/chess_zero/run.py --cmd sl\n"
      ],
      "execution_count": null,
      "outputs": [
        {
          "output_type": "stream",
          "text": [
            "2021-06-21 23:50:03,905@chess_zero.manager INFO # config type: mini\n",
            "[]\n",
            "done reading\n"
          ],
          "name": "stdout"
        }
      ]
    },
    {
      "cell_type": "code",
      "metadata": {
        "id": "RKXubDns74jF"
      },
      "source": [
        "\n"
      ],
      "execution_count": null,
      "outputs": []
    }
  ]
}