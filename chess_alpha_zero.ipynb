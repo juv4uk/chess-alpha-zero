{
  "nbformat": 4,
  "nbformat_minor": 0,
  "metadata": {
    "colab": {
      "name": "chess-alpha-zero.ipynb\"",
      "provenance": [],
      "authorship_tag": "ABX9TyPQ3ILZo9EsflsBAlNsCLuu",
      "include_colab_link": true
    },
    "kernelspec": {
      "name": "python3",
      "display_name": "Python 3"
    },
    "language_info": {
      "name": "python"
    },
    "accelerator": "GPU"
  },
  "cells": [
    {
      "cell_type": "markdown",
      "metadata": {
        "id": "view-in-github",
        "colab_type": "text"
      },
      "source": [
        "<a href=\"https://colab.research.google.com/github/juv4uk/chess-alpha-zero/blob/master/chess_alpha_zero.ipynb\" target=\"_parent\"><img src=\"https://colab.research.google.com/assets/colab-badge.svg\" alt=\"Open In Colab\"/></a>"
      ]
    },
    {
      "cell_type": "code",
      "metadata": {
        "id": "3ESRakcW1LUR"
      },
      "source": [
        "!git clone https://github.com/juv4uk/chess-alpha-zero"
      ],
      "execution_count": null,
      "outputs": []
    },
    {
      "cell_type": "code",
      "metadata": {
        "id": "YP3fMSAY2Mnu"
      },
      "source": [
        "!cd chess-alpha-zero/\n",
        "!ls chess-alpha-zero/src/chess_zero/"
      ],
      "execution_count": null,
      "outputs": []
    },
    {
      "cell_type": "code",
      "metadata": {
        "id": "cfUfHAow4Hz5"
      },
      "source": [
        "!pip install -r chess-alpha-zero/requirements.txt\n"
      ],
      "execution_count": null,
      "outputs": []
    },
    {
      "cell_type": "code",
      "metadata": {
        "id": "LLgMUyOU4HkW"
      },
      "source": [
        "!apt install python3"
      ],
      "execution_count": null,
      "outputs": []
    },
    {
      "cell_type": "code",
      "metadata": {
        "id": "ElqTjl774HAb"
      },
      "source": [
        "!python3 chess-alpha-zero/src/chess_zero/run.py --cmd self"
      ],
      "execution_count": null,
      "outputs": []
    },
    {
      "cell_type": "code",
      "metadata": {
        "id": "00lenzyX2ugF"
      },
      "source": [
        "!python chess-alpha-zero/src/chess_zero/run.py --cmd sl\n"
      ],
      "execution_count": null,
      "outputs": []
    },
    {
      "cell_type": "code",
      "metadata": {
        "id": "RKXubDns74jF"
      },
      "source": [
        "\n"
      ],
      "execution_count": null,
      "outputs": []
    }
  ]
}